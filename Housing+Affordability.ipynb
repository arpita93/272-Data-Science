{
 "cells": [
  {
   "cell_type": "code",
   "execution_count": 1,
   "metadata": {},
   "outputs": [
    {
     "data": {
      "text/html": [
       "<div>\n",
       "<table border=\"1\" class=\"dataframe\">\n",
       "  <thead>\n",
       "    <tr style=\"text-align: right;\">\n",
       "      <th></th>\n",
       "      <th>﻿Control</th>\n",
       "      <th>SMSA</th>\n",
       "      <th>METRO</th>\n",
       "      <th>BEDRMS</th>\n",
       "      <th>BUILT</th>\n",
       "      <th>STATUS</th>\n",
       "      <th>TYPE</th>\n",
       "      <th>VALUE</th>\n",
       "      <th>VACANCY</th>\n",
       "      <th>TENURE</th>\n",
       "      <th>...</th>\n",
       "      <th>FMTCOSTMEDRELFMRCAT</th>\n",
       "      <th>FMTINCRELFMRCAT</th>\n",
       "      <th>FMTCOST06RELAMICAT</th>\n",
       "      <th>FMTCOST08RELAMICAT</th>\n",
       "      <th>FMTCOST12RELAMICAT</th>\n",
       "      <th>FMTCOSTMEDRELAMICAT</th>\n",
       "      <th>FMTINCRELAMICAT</th>\n",
       "      <th>FMTASSISTED</th>\n",
       "      <th>FMTBURDEN</th>\n",
       "      <th>FMTSTATUS</th>\n",
       "    </tr>\n",
       "  </thead>\n",
       "  <tbody>\n",
       "    <tr>\n",
       "      <th>0</th>\n",
       "      <td>54288</td>\n",
       "      <td>5000</td>\n",
       "      <td>7</td>\n",
       "      <td>4</td>\n",
       "      <td>2003</td>\n",
       "      <td>1</td>\n",
       "      <td>1</td>\n",
       "      <td>90000</td>\n",
       "      <td>-6</td>\n",
       "      <td>1</td>\n",
       "      <td>...</td>\n",
       "      <td>2 50.1 - 100% FMR</td>\n",
       "      <td>2 50.1 - 100% FMR</td>\n",
       "      <td>6 100 - 120% AMI</td>\n",
       "      <td>7 120% AMI +</td>\n",
       "      <td>7 120% AMI +</td>\n",
       "      <td>6 100 - 120% AMI</td>\n",
       "      <td>4 60 - 80% AMI</td>\n",
       "      <td>.</td>\n",
       "      <td>2 30% to 50%</td>\n",
       "      <td>-5</td>\n",
       "    </tr>\n",
       "    <tr>\n",
       "      <th>1</th>\n",
       "      <td>54290</td>\n",
       "      <td>5000</td>\n",
       "      <td>7</td>\n",
       "      <td>2</td>\n",
       "      <td>2003</td>\n",
       "      <td>1</td>\n",
       "      <td>1</td>\n",
       "      <td>-6</td>\n",
       "      <td>-6</td>\n",
       "      <td>2</td>\n",
       "      <td>...</td>\n",
       "      <td>2 50.1 - 100% FMR</td>\n",
       "      <td>2 50.1 - 100% FMR</td>\n",
       "      <td>4 60 - 80% AMI</td>\n",
       "      <td>4 60 - 80% AMI</td>\n",
       "      <td>4 60 - 80% AMI</td>\n",
       "      <td>4 60 - 80% AMI</td>\n",
       "      <td>2 30 - 50% AMI</td>\n",
       "      <td>0 Not Assisted</td>\n",
       "      <td>2 30% to 50%</td>\n",
       "      <td>-5</td>\n",
       "    </tr>\n",
       "    <tr>\n",
       "      <th>2</th>\n",
       "      <td>54291</td>\n",
       "      <td>5000</td>\n",
       "      <td>7</td>\n",
       "      <td>2</td>\n",
       "      <td>2007</td>\n",
       "      <td>1</td>\n",
       "      <td>1</td>\n",
       "      <td>300000</td>\n",
       "      <td>-6</td>\n",
       "      <td>1</td>\n",
       "      <td>...</td>\n",
       "      <td>3 GT FMR</td>\n",
       "      <td>3 GT FMR</td>\n",
       "      <td>7 120% AMI +</td>\n",
       "      <td>7 120% AMI +</td>\n",
       "      <td>7 120% AMI +</td>\n",
       "      <td>7 120% AMI +</td>\n",
       "      <td>7 120% AMI +</td>\n",
       "      <td>.</td>\n",
       "      <td>3 50% or More</td>\n",
       "      <td>-5</td>\n",
       "    </tr>\n",
       "    <tr>\n",
       "      <th>3</th>\n",
       "      <td>54295</td>\n",
       "      <td>5000</td>\n",
       "      <td>7</td>\n",
       "      <td>2</td>\n",
       "      <td>2002</td>\n",
       "      <td>1</td>\n",
       "      <td>1</td>\n",
       "      <td>-6</td>\n",
       "      <td>-6</td>\n",
       "      <td>2</td>\n",
       "      <td>...</td>\n",
       "      <td>3 GT FMR</td>\n",
       "      <td>3 GT FMR</td>\n",
       "      <td>7 120% AMI +</td>\n",
       "      <td>7 120% AMI +</td>\n",
       "      <td>7 120% AMI +</td>\n",
       "      <td>7 120% AMI +</td>\n",
       "      <td>6 100 - 120% AMI</td>\n",
       "      <td>0 Not Assisted</td>\n",
       "      <td>2 30% to 50%</td>\n",
       "      <td>-5</td>\n",
       "    </tr>\n",
       "    <tr>\n",
       "      <th>4</th>\n",
       "      <td>54296</td>\n",
       "      <td>5000</td>\n",
       "      <td>7</td>\n",
       "      <td>4</td>\n",
       "      <td>2003</td>\n",
       "      <td>1</td>\n",
       "      <td>1</td>\n",
       "      <td>300000</td>\n",
       "      <td>-6</td>\n",
       "      <td>1</td>\n",
       "      <td>...</td>\n",
       "      <td>3 GT FMR</td>\n",
       "      <td>3 GT FMR</td>\n",
       "      <td>7 120% AMI +</td>\n",
       "      <td>7 120% AMI +</td>\n",
       "      <td>7 120% AMI +</td>\n",
       "      <td>7 120% AMI +</td>\n",
       "      <td>7 120% AMI +</td>\n",
       "      <td>.</td>\n",
       "      <td>1 Less than 30%</td>\n",
       "      <td>-5</td>\n",
       "    </tr>\n",
       "  </tbody>\n",
       "</table>\n",
       "<p>5 rows × 98 columns</p>\n",
       "</div>"
      ],
      "text/plain": [
       "   ﻿Control  SMSA  METRO  BEDRMS  BUILT  STATUS  TYPE   VALUE  VACANCY  \\\n",
       "0     54288  5000      7       4   2003       1     1   90000       -6   \n",
       "1     54290  5000      7       2   2003       1     1      -6       -6   \n",
       "2     54291  5000      7       2   2007       1     1  300000       -6   \n",
       "3     54295  5000      7       2   2002       1     1      -6       -6   \n",
       "4     54296  5000      7       4   2003       1     1  300000       -6   \n",
       "\n",
       "   TENURE    ...      FMTCOSTMEDRELFMRCAT    FMTINCRELFMRCAT  \\\n",
       "0       1    ...        2 50.1 - 100% FMR  2 50.1 - 100% FMR   \n",
       "1       2    ...        2 50.1 - 100% FMR  2 50.1 - 100% FMR   \n",
       "2       1    ...                 3 GT FMR           3 GT FMR   \n",
       "3       2    ...                 3 GT FMR           3 GT FMR   \n",
       "4       1    ...                 3 GT FMR           3 GT FMR   \n",
       "\n",
       "   FMTCOST06RELAMICAT  FMTCOST08RELAMICAT  FMTCOST12RELAMICAT  \\\n",
       "0    6 100 - 120% AMI        7 120% AMI +        7 120% AMI +   \n",
       "1      4 60 - 80% AMI      4 60 - 80% AMI      4 60 - 80% AMI   \n",
       "2        7 120% AMI +        7 120% AMI +        7 120% AMI +   \n",
       "3        7 120% AMI +        7 120% AMI +        7 120% AMI +   \n",
       "4        7 120% AMI +        7 120% AMI +        7 120% AMI +   \n",
       "\n",
       "   FMTCOSTMEDRELAMICAT   FMTINCRELAMICAT     FMTASSISTED        FMTBURDEN  \\\n",
       "0     6 100 - 120% AMI    4 60 - 80% AMI               .     2 30% to 50%   \n",
       "1       4 60 - 80% AMI    2 30 - 50% AMI  0 Not Assisted     2 30% to 50%   \n",
       "2         7 120% AMI +      7 120% AMI +               .    3 50% or More   \n",
       "3         7 120% AMI +  6 100 - 120% AMI  0 Not Assisted     2 30% to 50%   \n",
       "4         7 120% AMI +      7 120% AMI +               .  1 Less than 30%   \n",
       "\n",
       "   FMTSTATUS  \n",
       "0         -5  \n",
       "1         -5  \n",
       "2         -5  \n",
       "3         -5  \n",
       "4         -5  \n",
       "\n",
       "[5 rows x 98 columns]"
      ]
     },
     "execution_count": 1,
     "metadata": {},
     "output_type": "execute_result"
    }
   ],
   "source": [
    "\n",
    "from io import StringIO\n",
    "import requests\n",
    "import json\n",
    "import pandas as pd\n",
    "import matplotlib.pyplot as plt\n",
    "import seaborn as sns\n",
    "\n",
    "\n",
    "# @hidden_cell\n",
    "# This function accesses a file in your Object Storage. The definition contains your credentials.\n",
    "# You might want to remove those credentials before you share your notebook.\n",
    "def get_object_storage_file_with_credentials_f34eb69ce46f45f6bb1d81aa6fd77e13(container, filename):\n",
    "    \"\"\"This functions returns a StringIO object containing\n",
    "    the file content from Bluemix Object Storage.\"\"\"\n",
    "\n",
    "    url1 = ''.join(['https://identity.open.softlayer.com', '/v3/auth/tokens'])\n",
    "    data = {'auth': {'identity': {'methods': ['password'],\n",
    "            'password': {'user': {'name': 'member_3144209d6fbaea80f34b8f375a1a147239ad7e35','domain': {'id': '0e7257ca947447f082991119deaf3a26'},\n",
    "            'password': 'SK}b3(PaYbp2pq3,'}}}}}\n",
    "    headers1 = {'Content-Type': 'application/json'}\n",
    "    resp1 = requests.post(url=url1, data=json.dumps(data), headers=headers1)\n",
    "    resp1_body = resp1.json()\n",
    "    for e1 in resp1_body['token']['catalog']:\n",
    "        if(e1['type']=='object-store'):\n",
    "            for e2 in e1['endpoints']:\n",
    "                        if(e2['interface']=='public'and e2['region']=='dallas'):\n",
    "                            url2 = ''.join([e2['url'],'/', container, '/', filename])\n",
    "    s_subject_token = resp1.headers['x-subject-token']\n",
    "    headers2 = {'X-Auth-Token': s_subject_token, 'accept': 'application/json'}\n",
    "    resp2 = requests.get(url=url2, headers=headers2)\n",
    "    return StringIO(resp2.text)\n",
    "\n",
    "df_data_1 = pd.read_csv(get_object_storage_file_with_credentials_f34eb69ce46f45f6bb1d81aa6fd77e13('DefaultProjectarpitasahasjsuedu', 'thads2013m.csv'))\n",
    "\n",
    "df_data_1.head()\n",
    "\n",
    "\n",
    "\n",
    "\n",
    "\n"
   ]
  },
  {
   "cell_type": "code",
   "execution_count": 2,
   "metadata": {},
   "outputs": [
    {
     "data": {
      "text/html": [
       "<div>\n",
       "<table border=\"1\" class=\"dataframe\">\n",
       "  <thead>\n",
       "    <tr style=\"text-align: right;\">\n",
       "      <th></th>\n",
       "      <th>Income_Cat</th>\n",
       "      <th>Percent_of_AMI</th>\n",
       "    </tr>\n",
       "  </thead>\n",
       "  <tbody>\n",
       "    <tr>\n",
       "      <th>0</th>\n",
       "      <td>6</td>\n",
       "      <td>100 - 120% AMI</td>\n",
       "    </tr>\n",
       "    <tr>\n",
       "      <th>1</th>\n",
       "      <td>4</td>\n",
       "      <td>60 - 80% AMI</td>\n",
       "    </tr>\n",
       "    <tr>\n",
       "      <th>2</th>\n",
       "      <td>7</td>\n",
       "      <td>120% AMI +</td>\n",
       "    </tr>\n",
       "    <tr>\n",
       "      <th>3</th>\n",
       "      <td>7</td>\n",
       "      <td>120% AMI +</td>\n",
       "    </tr>\n",
       "    <tr>\n",
       "      <th>4</th>\n",
       "      <td>7</td>\n",
       "      <td>120% AMI +</td>\n",
       "    </tr>\n",
       "  </tbody>\n",
       "</table>\n",
       "</div>"
      ],
      "text/plain": [
       "  Income_Cat  Percent_of_AMI\n",
       "0          6  100 - 120% AMI\n",
       "1          4    60 - 80% AMI\n",
       "2          7      120% AMI +\n",
       "3          7      120% AMI +\n",
       "4          7      120% AMI +"
      ]
     },
     "execution_count": 2,
     "metadata": {},
     "output_type": "execute_result"
    }
   ],
   "source": [
    "#df_data_1['Income_Cat'], df_data_1['Percent_of_AMI'] = zip(*df_data_1['FMTCOST06RELAMICAT'].map(lambda x: x.split(' ')))\n",
    "df2 = pd.DataFrame(df_data_1['FMTCOST06RELAMICAT'].str.split(' ',1).tolist())\n",
    "df2.columns = ['Income_Cat', 'Percent_of_AMI']\n",
    "#df_data_1.head()\n",
    "df2.head()"
   ]
  },
  {
   "cell_type": "code",
   "execution_count": 3,
   "metadata": {},
   "outputs": [
    {
     "data": {
      "text/html": [
       "<div>\n",
       "<table border=\"1\" class=\"dataframe\">\n",
       "  <thead>\n",
       "    <tr style=\"text-align: right;\">\n",
       "      <th></th>\n",
       "      <th>Income_Cat</th>\n",
       "      <th>Percent_of_AMI</th>\n",
       "      <th>Metro</th>\n",
       "      <th>Age</th>\n",
       "    </tr>\n",
       "  </thead>\n",
       "  <tbody>\n",
       "    <tr>\n",
       "      <th>0</th>\n",
       "      <td>6</td>\n",
       "      <td>100 - 120% AMI</td>\n",
       "      <td>5000</td>\n",
       "      <td>66</td>\n",
       "    </tr>\n",
       "    <tr>\n",
       "      <th>1</th>\n",
       "      <td>4</td>\n",
       "      <td>60 - 80% AMI</td>\n",
       "      <td>5000</td>\n",
       "      <td>39</td>\n",
       "    </tr>\n",
       "    <tr>\n",
       "      <th>2</th>\n",
       "      <td>7</td>\n",
       "      <td>120% AMI +</td>\n",
       "      <td>5000</td>\n",
       "      <td>44</td>\n",
       "    </tr>\n",
       "    <tr>\n",
       "      <th>3</th>\n",
       "      <td>7</td>\n",
       "      <td>120% AMI +</td>\n",
       "      <td>5000</td>\n",
       "      <td>39</td>\n",
       "    </tr>\n",
       "    <tr>\n",
       "      <th>4</th>\n",
       "      <td>7</td>\n",
       "      <td>120% AMI +</td>\n",
       "      <td>5000</td>\n",
       "      <td>40</td>\n",
       "    </tr>\n",
       "  </tbody>\n",
       "</table>\n",
       "</div>"
      ],
      "text/plain": [
       "  Income_Cat  Percent_of_AMI  Metro  Age\n",
       "0          6  100 - 120% AMI   5000   66\n",
       "1          4    60 - 80% AMI   5000   39\n",
       "2          7      120% AMI +   5000   44\n",
       "3          7      120% AMI +   5000   39\n",
       "4          7      120% AMI +   5000   40"
      ]
     },
     "execution_count": 3,
     "metadata": {},
     "output_type": "execute_result"
    }
   ],
   "source": [
    "df2['Metro'] = df_data_1['SMSA'].copy()\n",
    "df2['Age'] = df_data_1['AGE1'].copy()\n",
    "\n",
    "\n",
    "df2.head()"
   ]
  },
  {
   "cell_type": "code",
   "execution_count": 4,
   "metadata": {},
   "outputs": [
    {
     "data": {
      "image/png": "[encoded data removed]",
      "text/plain": [
       "<matplotlib.figure.Figure at 0x7f03dc4bf690>"
      ]
     },
     "metadata": {},
     "output_type": "display_data"
    }
   ],
   "source": [
    "sns.lmplot(x = 'Metro', y = 'Income_Cat', data = df2, fit_reg = False)\n",
    "plt.show()"
   ]
  },
  {
   "cell_type": "code",
   "execution_count": 17,
   "metadata": {},
   "outputs": [
    {
     "data": {
      "text/html": [
       "<div>\n",
       "<table border=\"1\" class=\"dataframe\">\n",
       "  <thead>\n",
       "    <tr style=\"text-align: right;\">\n",
       "      <th></th>\n",
       "      <th>Income_Cat</th>\n",
       "      <th>Percent_of_AMI</th>\n",
       "      <th>Metro</th>\n",
       "      <th>Age</th>\n",
       "    </tr>\n",
       "  </thead>\n",
       "  <tbody>\n",
       "    <tr>\n",
       "      <th>0</th>\n",
       "      <td>6</td>\n",
       "      <td>100 - 120% AMI</td>\n",
       "      <td>5000</td>\n",
       "      <td>66</td>\n",
       "    </tr>\n",
       "    <tr>\n",
       "      <th>1</th>\n",
       "      <td>4</td>\n",
       "      <td>60 - 80% AMI</td>\n",
       "      <td>5000</td>\n",
       "      <td>39</td>\n",
       "    </tr>\n",
       "    <tr>\n",
       "      <th>2</th>\n",
       "      <td>7</td>\n",
       "      <td>120% AMI +</td>\n",
       "      <td>5000</td>\n",
       "      <td>44</td>\n",
       "    </tr>\n",
       "    <tr>\n",
       "      <th>3</th>\n",
       "      <td>7</td>\n",
       "      <td>120% AMI +</td>\n",
       "      <td>5000</td>\n",
       "      <td>39</td>\n",
       "    </tr>\n",
       "    <tr>\n",
       "      <th>4</th>\n",
       "      <td>7</td>\n",
       "      <td>120% AMI +</td>\n",
       "      <td>5000</td>\n",
       "      <td>40</td>\n",
       "    </tr>\n",
       "  </tbody>\n",
       "</table>\n",
       "</div>"
      ],
      "text/plain": [
       "  Income_Cat  Percent_of_AMI  Metro  Age\n",
       "0          6  100 - 120% AMI   5000   66\n",
       "1          4    60 - 80% AMI   5000   39\n",
       "2          7      120% AMI +   5000   44\n",
       "3          7      120% AMI +   5000   39\n",
       "4          7      120% AMI +   5000   40"
      ]
     },
     "execution_count": 17,
     "metadata": {},
     "output_type": "execute_result"
    }
   ],
   "source": [
    "df2.groupby(\"Metro\")\n",
    "df2.head()"
   ]
  },
  {
   "cell_type": "code",
   "execution_count": 22,
   "metadata": {
    "scrolled": true
   },
   "outputs": [
    {
     "data": {
      "text/html": [
       "<div>\n",
       "<table border=\"1\" class=\"dataframe\">\n",
       "  <thead>\n",
       "    <tr style=\"text-align: right;\">\n",
       "      <th></th>\n",
       "      <th>Income_Cat</th>\n",
       "      <th>Percent_of_AMI</th>\n",
       "      <th>Metro</th>\n",
       "      <th>Age</th>\n",
       "    </tr>\n",
       "  </thead>\n",
       "  <tbody>\n",
       "    <tr>\n",
       "      <th>1</th>\n",
       "      <td>4</td>\n",
       "      <td>60 - 80% AMI</td>\n",
       "      <td>Miami</td>\n",
       "      <td>39</td>\n",
       "    </tr>\n",
       "    <tr>\n",
       "      <th>3</th>\n",
       "      <td>7</td>\n",
       "      <td>120% AMI +</td>\n",
       "      <td>Miami</td>\n",
       "      <td>39</td>\n",
       "    </tr>\n",
       "    <tr>\n",
       "      <th>4</th>\n",
       "      <td>7</td>\n",
       "      <td>120% AMI +</td>\n",
       "      <td>Miami</td>\n",
       "      <td>40</td>\n",
       "    </tr>\n",
       "    <tr>\n",
       "      <th>11</th>\n",
       "      <td>7</td>\n",
       "      <td>120% AMI +</td>\n",
       "      <td>Miami</td>\n",
       "      <td>36</td>\n",
       "    </tr>\n",
       "    <tr>\n",
       "      <th>20</th>\n",
       "      <td>6</td>\n",
       "      <td>100 - 120% AMI</td>\n",
       "      <td>Miami</td>\n",
       "      <td>37</td>\n",
       "    </tr>\n",
       "  </tbody>\n",
       "</table>\n",
       "</div>"
      ],
      "text/plain": [
       "   Income_Cat  Percent_of_AMI  Metro  Age\n",
       "1           4    60 - 80% AMI  Miami   39\n",
       "3           7      120% AMI +  Miami   39\n",
       "4           7      120% AMI +  Miami   40\n",
       "11          7      120% AMI +  Miami   36\n",
       "20          6  100 - 120% AMI  Miami   37"
      ]
     },
     "execution_count": 22,
     "metadata": {},
     "output_type": "execute_result"
    }
   ],
   "source": [
    "#order = df2.sort(['Income_Cat','Percent_of_AMI'], ascending = True)\n",
    "df3 = df2[(df2.Age >= 30) & (df2.Age <= 40)]\n",
    "df3 ['Metro'] = df3['Metro'].map({640:'Austin', 720:'Baltimore', 1120:'Boston', 3280:'Hartford', 3360:'Houston', 3600:'Jacksonville', 4120:'Las Vegas', 4520:'Louisville',\n",
    "                                 5000:'Miami', 5120:'Minneapolis', 5360:'Nashville',5880:'Oklahoma City', 5960:'Orlando', 6760:'Richmond', 6840: 'Rochester',7240:'San Antonio',\n",
    "                                7600:'Seattle', 8280:'Tampa', 8520:'Tucson', 8840:'Washington DC'}).head()\n",
    "#df2 ['Metro'] = df2['Metro'].map({640:'Austin', 720:'Baltimore', 1120:'Boston', 3280:'Hartford', 3360:'Houston', 3600:'Jacksonville', 4120:'Las Vegas', 4520:'Louisville',\n",
    " #                                5000:'Miami', 5120:'Minneapolis', 5360:'Nashville',5880:'Oklahoma City', 5960:'Orlando', 6760:'Richmond', 6840: 'Rochester',7240:'San Antonio',\n",
    "  #                               7600:'Seattle', 8280:'Tampa', 8520:'Tucson', 8840:'Washington DC'})\n",
    "                                 \n",
    "#g = sns.factorplot(x=\"Percent_of_AMI\", col=\"Metro\",col_wrap = 4,\n",
    " #                  data=df2, kind=\"count\", x_order = ['30 - 50% AMI','50 - 60% AMI', '60 - 80% AMI', '80 - 100% AMI', '100 - 120% AMI', '120% AMI +'],\n",
    "  #                 size=4, aspect=1)\n",
    "\n",
    "#g.set_xticklabels(rotation=30)\n",
    "\n",
    "#plt.show()\n"
   ]
  },
  {
   "cell_type": "code",
   "execution_count": 23,
   "metadata": {},
   "outputs": [
    {
     "data": {
      "image/png": "[encoded data removed]",
      "text/plain": [
       "<matplotlib.figure.Figure at 0x7f03db824650>"
      ]
     },
     "metadata": {},
     "output_type": "display_data"
    }
   ],
   "source": [
    "                             \n",
    "g = sns.factorplot(x=\"Percent_of_AMI\", col=\"Metro\",col_wrap = 4,\n",
    "                  data=df2, kind=\"count\", x_order = ['30 - 50% AMI','50 - 60% AMI', '60 - 80% AMI', '80 - 100% AMI', '100 - 120% AMI', '120% AMI +'],\n",
    "                 size=4, aspect=1)\n",
    "\n",
    "g.set_xticklabels(rotation=30)\n",
    "plt.show()"
   ]
  },
  {
   "cell_type": "code",
   "execution_count": null,
   "metadata": {
    "collapsed": true
   },
   "outputs": [],
   "source": []
  },
  {
   "cell_type": "code",
   "execution_count": null,
   "metadata": {
    "collapsed": true
   },
   "outputs": [],
   "source": []
  },
  {
   "cell_type": "code",
   "execution_count": null,
   "metadata": {
    "collapsed": true
   },
   "outputs": [],
   "source": []
  },
  {
   "cell_type": "code",
   "execution_count": null,
   "metadata": {
    "collapsed": true
   },
   "outputs": [],
   "source": []
  },
  {
   "cell_type": "code",
   "execution_count": null,
   "metadata": {
    "collapsed": true
   },
   "outputs": [],
   "source": []
  },
  {
   "cell_type": "code",
   "execution_count": null,
   "metadata": {
    "collapsed": true
   },
   "outputs": [],
   "source": []
  },
  {
   "cell_type": "code",
   "execution_count": null,
   "metadata": {
    "collapsed": true
   },
   "outputs": [],
   "source": []
  },
  {
   "cell_type": "code",
   "execution_count": null,
   "metadata": {
    "collapsed": true
   },
   "outputs": [],
   "source": []
  },
  {
   "cell_type": "code",
   "execution_count": null,
   "metadata": {
    "collapsed": true
   },
   "outputs": [],
   "source": []
  },
  {
   "cell_type": "code",
   "execution_count": null,
   "metadata": {
    "collapsed": true
   },
   "outputs": [],
   "source": []
  },
  {
   "cell_type": "code",
   "execution_count": null,
   "metadata": {
    "collapsed": true
   },
   "outputs": [],
   "source": []
  },
  {
   "cell_type": "code",
   "execution_count": null,
   "metadata": {
    "collapsed": true
   },
   "outputs": [],
   "source": []
  },
  {
   "cell_type": "code",
   "execution_count": null,
   "metadata": {
    "collapsed": true
   },
   "outputs": [],
   "source": []
  },
  {
   "cell_type": "code",
   "execution_count": null,
   "metadata": {
    "collapsed": true
   },
   "outputs": [],
   "source": []
  },
  {
   "cell_type": "code",
   "execution_count": null,
   "metadata": {
    "collapsed": true
   },
   "outputs": [],
   "source": []
  },
  {
   "cell_type": "code",
   "execution_count": null,
   "metadata": {
    "collapsed": true
   },
   "outputs": [],
   "source": []
  },
  {
   "cell_type": "code",
   "execution_count": null,
   "metadata": {
    "collapsed": true
   },
   "outputs": [],
   "source": []
  },
  {
   "cell_type": "code",
   "execution_count": null,
   "metadata": {
    "collapsed": true
   },
   "outputs": [],
   "source": []
  },
  {
   "cell_type": "code",
   "execution_count": null,
   "metadata": {
    "collapsed": true
   },
   "outputs": [],
   "source": []
  },
  {
   "cell_type": "code",
   "execution_count": null,
   "metadata": {
    "collapsed": true
   },
   "outputs": [],
   "source": []
  },
  {
   "cell_type": "code",
   "execution_count": null,
   "metadata": {
    "collapsed": true
   },
   "outputs": [],
   "source": []
  },
  {
   "cell_type": "code",
   "execution_count": null,
   "metadata": {
    "collapsed": true
   },
   "outputs": [],
   "source": []
  },
  {
   "cell_type": "code",
   "execution_count": null,
   "metadata": {
    "collapsed": true
   },
   "outputs": [],
   "source": []
  },
  {
   "cell_type": "code",
   "execution_count": null,
   "metadata": {
    "collapsed": true
   },
   "outputs": [],
   "source": []
  },
  {
   "cell_type": "code",
   "execution_count": null,
   "metadata": {
    "collapsed": true
   },
   "outputs": [],
   "source": []
  },
  {
   "cell_type": "code",
   "execution_count": null,
   "metadata": {
    "collapsed": true
   },
   "outputs": [],
   "source": []
  },
  {
   "cell_type": "code",
   "execution_count": null,
   "metadata": {
    "collapsed": true
   },
   "outputs": [],
   "source": []
  },
  {
   "cell_type": "code",
   "execution_count": null,
   "metadata": {
    "collapsed": true
   },
   "outputs": [],
   "source": []
  },
  {
   "cell_type": "code",
   "execution_count": null,
   "metadata": {
    "collapsed": true
   },
   "outputs": [],
   "source": []
  },
  {
   "cell_type": "code",
   "execution_count": null,
   "metadata": {
    "collapsed": true
   },
   "outputs": [],
   "source": []
  },
  {
   "cell_type": "code",
   "execution_count": null,
   "metadata": {
    "collapsed": true
   },
   "outputs": [],
   "source": []
  },
  {
   "cell_type": "code",
   "execution_count": null,
   "metadata": {
    "collapsed": true
   },
   "outputs": [],
   "source": []
  },
  {
   "cell_type": "code",
   "execution_count": null,
   "metadata": {
    "collapsed": true
   },
   "outputs": [],
   "source": []
  },
  {
   "cell_type": "code",
   "execution_count": null,
   "metadata": {
    "collapsed": true
   },
   "outputs": [],
   "source": []
  },
  {
   "cell_type": "code",
   "execution_count": null,
   "metadata": {
    "collapsed": true
   },
   "outputs": [],
   "source": []
  },
  {
   "cell_type": "code",
   "execution_count": null,
   "metadata": {
    "collapsed": true
   },
   "outputs": [],
   "source": []
  },
  {
   "cell_type": "code",
   "execution_count": null,
   "metadata": {
    "collapsed": true
   },
   "outputs": [],
   "source": []
  },
  {
   "cell_type": "code",
   "execution_count": null,
   "metadata": {
    "collapsed": true
   },
   "outputs": [],
   "source": []
  },
  {
   "cell_type": "code",
   "execution_count": null,
   "metadata": {
    "collapsed": true
   },
   "outputs": [],
   "source": []
  },
  {
   "cell_type": "code",
   "execution_count": null,
   "metadata": {
    "collapsed": true
   },
   "outputs": [],
   "source": []
  },
  {
   "cell_type": "code",
   "execution_count": null,
   "metadata": {
    "collapsed": true
   },
   "outputs": [],
   "source": []
  },
  {
   "cell_type": "code",
   "execution_count": null,
   "metadata": {
    "collapsed": true
   },
   "outputs": [],
   "source": []
  },
  {
   "cell_type": "code",
   "execution_count": null,
   "metadata": {
    "collapsed": true
   },
   "outputs": [],
   "source": []
  },
  {
   "cell_type": "code",
   "execution_count": null,
   "metadata": {
    "collapsed": true
   },
   "outputs": [],
   "source": []
  },
  {
   "cell_type": "code",
   "execution_count": null,
   "metadata": {
    "collapsed": true
   },
   "outputs": [],
   "source": []
  },
  {
   "cell_type": "code",
   "execution_count": null,
   "metadata": {
    "collapsed": true
   },
   "outputs": [],
   "source": []
  },
  {
   "cell_type": "code",
   "execution_count": null,
   "metadata": {
    "collapsed": true
   },
   "outputs": [],
   "source": []
  },
  {
   "cell_type": "code",
   "execution_count": null,
   "metadata": {
    "collapsed": true
   },
   "outputs": [],
   "source": []
  },
  {
   "cell_type": "code",
   "execution_count": null,
   "metadata": {
    "collapsed": true
   },
   "outputs": [],
   "source": []
  },
  {
   "cell_type": "code",
   "execution_count": null,
   "metadata": {
    "collapsed": true
   },
   "outputs": [],
   "source": []
  },
  {
   "cell_type": "code",
   "execution_count": null,
   "metadata": {
    "collapsed": true
   },
   "outputs": [],
   "source": []
  },
  {
   "cell_type": "code",
   "execution_count": null,
   "metadata": {
    "collapsed": true
   },
   "outputs": [],
   "source": []
  },
  {
   "cell_type": "code",
   "execution_count": null,
   "metadata": {
    "collapsed": true
   },
   "outputs": [],
   "source": []
  }
 ],
 "metadata": {
  "kernelspec": {
   "display_name": "Python 2 with Spark 2.0",
   "language": "python",
   "name": "python2-spark20"
  },
  "language_info": {
   "codemirror_mode": {
    "name": "ipython",
    "version": 2
   },
   "file_extension": ".py",
   "mimetype": "text/x-python",
   "name": "python",
   "nbconvert_exporter": "python",
   "pygments_lexer": "ipython2",
   "version": "2.7.11"
  }
 },
 "nbformat": 4,
 "nbformat_minor": 1
}
